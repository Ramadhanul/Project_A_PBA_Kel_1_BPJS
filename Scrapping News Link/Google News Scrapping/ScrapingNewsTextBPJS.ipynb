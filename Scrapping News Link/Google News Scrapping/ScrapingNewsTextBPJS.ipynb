{
 "cells": [
  {
   "cell_type": "markdown",
   "metadata": {
    "id": "JvVenHEgxvOz"
   },
   "source": [
    "# **Install dan Setting Library**"
   ]
  },
  {
   "cell_type": "markdown",
   "metadata": {
    "id": "AtN79oZazmZW"
   },
   "source": [
    "- Setting selenium khusus Google Colab: https://nariyoo.com/python-how-to-run-selenium-in-google-colab/\n",
    "- Tidak perlu run kode cell ini jika melakukan running di Jupyter Notebook atau local Python lain"
   ]
  },
  {
   "cell_type": "code",
   "execution_count": 1,
   "metadata": {
    "colab": {
     "base_uri": "https://localhost:8080/"
    },
    "id": "2TOhC2hazmCf",
    "outputId": "0f9c43d1-9e4d-472b-f7ec-1d8fbb36fd9c"
   },
   "outputs": [
    {
     "name": "stderr",
     "output_type": "stream",
     "text": [
      "UsageError: Cell magic `%%shell` not found.\n"
     ]
    }
   ],
   "source": [
    "%%shell\n",
    "sudo apt -y update\n",
    "sudo apt install -y wget curl unzip\n",
    "wget http://archive.ubuntu.com/ubuntu/pool/main/libu/libu2f-host/libu2f-udev_1.1.4-1_all.deb\n",
    "dpkg -i libu2f-udev_1.1.4-1_all.deb\n",
    "wget https://dl.google.com/linux/direct/google-chrome-stable_current_amd64.deb\n",
    "dpkg -i google-chrome-stable_current_amd64.deb\n",
    "CHROME_DRIVER_VERSION=`curl -sS chromedriver.storage.googleapis.com/LATEST_RELEASE`\n",
    "wget -N https://chromedriver.storage.googleapis.com/$CHROME_DRIVER_VERSION/chromedriver_linux64.zip -P /tmp/\n",
    "unzip -o /tmp/chromedriver_linux64.zip -d /tmp/\n",
    "chmod +x /tmp/chromedriver\n",
    "mv /tmp/chromedriver /usr/local/bin/chromedriver\n",
    "pip install selenium"
   ]
  },
  {
   "cell_type": "code",
   "execution_count": 4,
   "metadata": {
    "colab": {
     "base_uri": "https://localhost:8080/"
    },
    "id": "gjkVfGIsuJ5D",
    "outputId": "495f7e28-a0f5-4399-ea84-b2fb1551138d"
   },
   "outputs": [
    {
     "name": "stdout",
     "output_type": "stream",
     "text": [
      "Collecting newspaper3k\n",
      "  Obtaining dependency information for newspaper3k from https://files.pythonhosted.org/packages/d7/b9/51afecb35bb61b188a4b44868001de348a0e8134b4dfa00ffc191567c4b9/newspaper3k-0.2.8-py3-none-any.whl.metadata\n",
      "  Using cached newspaper3k-0.2.8-py3-none-any.whl.metadata (11 kB)\n",
      "Requirement already satisfied: beautifulsoup4>=4.4.1 in c:\\users\\user\\anaconda3\\lib\\site-packages (from newspaper3k) (4.12.2)\n",
      "Requirement already satisfied: Pillow>=3.3.0 in c:\\users\\user\\anaconda3\\lib\\site-packages (from newspaper3k) (9.4.0)\n",
      "Requirement already satisfied: PyYAML>=3.11 in c:\\users\\user\\anaconda3\\lib\\site-packages (from newspaper3k) (6.0)\n",
      "Requirement already satisfied: cssselect>=0.9.2 in c:\\users\\user\\anaconda3\\lib\\site-packages (from newspaper3k) (1.2.0)\n",
      "Requirement already satisfied: lxml>=3.6.0 in c:\\users\\user\\anaconda3\\lib\\site-packages (from newspaper3k) (4.9.3)\n",
      "Requirement already satisfied: nltk>=3.2.1 in c:\\users\\user\\anaconda3\\lib\\site-packages (from newspaper3k) (3.8.1)\n",
      "Requirement already satisfied: requests>=2.10.0 in c:\\users\\user\\anaconda3\\lib\\site-packages (from newspaper3k) (2.31.0)\n",
      "Collecting feedparser>=5.2.1 (from newspaper3k)\n",
      "  Obtaining dependency information for feedparser>=5.2.1 from https://files.pythonhosted.org/packages/7c/d4/8c31aad9cc18f451c49f7f9cfb5799dadffc88177f7917bc90a66459b1d7/feedparser-6.0.11-py3-none-any.whl.metadata\n",
      "  Using cached feedparser-6.0.11-py3-none-any.whl.metadata (2.4 kB)\n",
      "Requirement already satisfied: tldextract>=2.0.1 in c:\\users\\user\\anaconda3\\lib\\site-packages (from newspaper3k) (3.2.0)\n",
      "Collecting feedfinder2>=0.0.4 (from newspaper3k)\n",
      "  Using cached feedfinder2-0.0.4.tar.gz (3.3 kB)\n",
      "  Preparing metadata (setup.py): started\n",
      "  Preparing metadata (setup.py): finished with status 'done'\n",
      "Collecting jieba3k>=0.35.1 (from newspaper3k)\n",
      "  Downloading jieba3k-0.35.1.zip (7.4 MB)\n",
      "     ---------------------------------------- 0.0/7.4 MB ? eta -:--:--\n",
      "     ---------------------------------------- 0.0/7.4 MB ? eta -:--:--\n",
      "     ---------------------------------------- 0.0/7.4 MB 217.9 kB/s eta 0:00:34\n",
      "     ---------------------------------------- 0.1/7.4 MB 363.1 kB/s eta 0:00:21\n",
      "      --------------------------------------- 0.1/7.4 MB 595.3 kB/s eta 0:00:13\n",
      "     - -------------------------------------- 0.2/7.4 MB 831.5 kB/s eta 0:00:09\n",
      "     - -------------------------------------- 0.3/7.4 MB 947.5 kB/s eta 0:00:08\n",
      "     -- ------------------------------------- 0.5/7.4 MB 1.5 MB/s eta 0:00:05\n",
      "     --- ------------------------------------ 0.6/7.4 MB 1.7 MB/s eta 0:00:05\n",
      "     ---- ----------------------------------- 0.8/7.4 MB 2.0 MB/s eta 0:00:04\n",
      "     ------ --------------------------------- 1.1/7.4 MB 2.4 MB/s eta 0:00:03\n",
      "     ------- -------------------------------- 1.4/7.4 MB 2.6 MB/s eta 0:00:03\n",
      "     -------- ------------------------------- 1.6/7.4 MB 2.8 MB/s eta 0:00:03\n",
      "     ---------- ----------------------------- 2.0/7.4 MB 3.2 MB/s eta 0:00:02\n",
      "     ----------- ---------------------------- 2.1/7.4 MB 3.3 MB/s eta 0:00:02\n",
      "     ------------- -------------------------- 2.6/7.4 MB 3.6 MB/s eta 0:00:02\n",
      "     --------------- ------------------------ 2.9/7.4 MB 3.9 MB/s eta 0:00:02\n",
      "     ---------------- ----------------------- 3.1/7.4 MB 3.9 MB/s eta 0:00:02\n",
      "     ------------------- -------------------- 3.6/7.4 MB 4.3 MB/s eta 0:00:01\n",
      "     -------------------- ------------------- 3.8/7.4 MB 4.4 MB/s eta 0:00:01\n",
      "     ---------------------- ----------------- 4.2/7.4 MB 4.6 MB/s eta 0:00:01\n",
      "     ----------------------- ---------------- 4.4/7.4 MB 4.6 MB/s eta 0:00:01\n",
      "     ------------------------ --------------- 4.6/7.4 MB 4.5 MB/s eta 0:00:01\n",
      "     --------------------------- ------------ 5.1/7.4 MB 4.8 MB/s eta 0:00:01\n",
      "     ----------------------------- ---------- 5.4/7.4 MB 4.9 MB/s eta 0:00:01\n",
      "     ------------------------------- -------- 5.9/7.4 MB 5.1 MB/s eta 0:00:01\n",
      "     --------------------------------- ------ 6.2/7.4 MB 5.2 MB/s eta 0:00:01\n",
      "     ---------------------------------- ----- 6.4/7.4 MB 5.1 MB/s eta 0:00:01\n",
      "     ------------------------------------ --- 6.8/7.4 MB 5.2 MB/s eta 0:00:01\n",
      "     ---------------------------------------  7.3/7.4 MB 5.4 MB/s eta 0:00:01\n",
      "     ---------------------------------------  7.4/7.4 MB 5.4 MB/s eta 0:00:01\n",
      "     ---------------------------------------- 7.4/7.4 MB 5.3 MB/s eta 0:00:00\n",
      "  Preparing metadata (setup.py): started\n",
      "  Preparing metadata (setup.py): finished with status 'done'\n",
      "Requirement already satisfied: python-dateutil>=2.5.3 in c:\\users\\user\\anaconda3\\lib\\site-packages (from newspaper3k) (2.8.2)\n",
      "Collecting tinysegmenter==0.3 (from newspaper3k)\n",
      "  Downloading tinysegmenter-0.3.tar.gz (16 kB)\n",
      "  Preparing metadata (setup.py): started\n",
      "  Preparing metadata (setup.py): finished with status 'done'\n",
      "Requirement already satisfied: soupsieve>1.2 in c:\\users\\user\\anaconda3\\lib\\site-packages (from beautifulsoup4>=4.4.1->newspaper3k) (2.4)\n",
      "Requirement already satisfied: six in c:\\users\\user\\anaconda3\\lib\\site-packages (from feedfinder2>=0.0.4->newspaper3k) (1.16.0)\n",
      "Collecting sgmllib3k (from feedparser>=5.2.1->newspaper3k)\n",
      "  Downloading sgmllib3k-1.0.0.tar.gz (5.8 kB)\n",
      "  Preparing metadata (setup.py): started\n",
      "  Preparing metadata (setup.py): finished with status 'done'\n",
      "Requirement already satisfied: click in c:\\users\\user\\anaconda3\\lib\\site-packages (from nltk>=3.2.1->newspaper3k) (8.0.4)\n",
      "Requirement already satisfied: joblib in c:\\users\\user\\anaconda3\\lib\\site-packages (from nltk>=3.2.1->newspaper3k) (1.2.0)\n",
      "Requirement already satisfied: regex>=2021.8.3 in c:\\users\\user\\anaconda3\\lib\\site-packages (from nltk>=3.2.1->newspaper3k) (2022.7.9)\n",
      "Requirement already satisfied: tqdm in c:\\users\\user\\anaconda3\\lib\\site-packages (from nltk>=3.2.1->newspaper3k) (4.66.1)\n",
      "Requirement already satisfied: charset-normalizer<4,>=2 in c:\\users\\user\\anaconda3\\lib\\site-packages (from requests>=2.10.0->newspaper3k) (2.0.4)\n",
      "Requirement already satisfied: idna<4,>=2.5 in c:\\users\\user\\anaconda3\\lib\\site-packages (from requests>=2.10.0->newspaper3k) (3.4)\n",
      "Requirement already satisfied: urllib3<3,>=1.21.1 in c:\\users\\user\\anaconda3\\lib\\site-packages (from requests>=2.10.0->newspaper3k) (1.26.16)\n",
      "Requirement already satisfied: certifi>=2017.4.17 in c:\\users\\user\\anaconda3\\lib\\site-packages (from requests>=2.10.0->newspaper3k) (2023.7.22)\n",
      "Requirement already satisfied: requests-file>=1.4 in c:\\users\\user\\anaconda3\\lib\\site-packages (from tldextract>=2.0.1->newspaper3k) (1.5.1)\n",
      "Requirement already satisfied: filelock>=3.0.8 in c:\\users\\user\\anaconda3\\lib\\site-packages (from tldextract>=2.0.1->newspaper3k) (3.9.0)\n",
      "Requirement already satisfied: colorama in c:\\users\\user\\anaconda3\\lib\\site-packages (from click->nltk>=3.2.1->newspaper3k) (0.4.6)\n",
      "Downloading newspaper3k-0.2.8-py3-none-any.whl (211 kB)\n",
      "   ---------------------------------------- 0.0/211.1 kB ? eta -:--:--\n",
      "   ------------- -------------------------- 71.7/211.1 kB 1.9 MB/s eta 0:00:01\n",
      "   -------------------------------------- - 204.8/211.1 kB 3.1 MB/s eta 0:00:01\n",
      "   ---------------------------------------- 211.1/211.1 kB 2.1 MB/s eta 0:00:00\n",
      "Downloading feedparser-6.0.11-py3-none-any.whl (81 kB)\n",
      "   ---------------------------------------- 0.0/81.3 kB ? eta -:--:--\n",
      "   ---------------------------------------- 81.3/81.3 kB 2.3 MB/s eta 0:00:00\n",
      "Building wheels for collected packages: tinysegmenter, feedfinder2, jieba3k, sgmllib3k\n",
      "  Building wheel for tinysegmenter (setup.py): started\n",
      "  Building wheel for tinysegmenter (setup.py): finished with status 'done'\n",
      "  Created wheel for tinysegmenter: filename=tinysegmenter-0.3-py3-none-any.whl size=13566 sha256=888d2e3feababd8157478ed4f61d44bbb316983904463b037ae68363d1d25cd4\n",
      "  Stored in directory: c:\\users\\user\\appdata\\local\\pip\\cache\\wheels\\fc\\ab\\f8\\cce3a9ae6d828bd346be695f7ff54612cd22b7cbd7208d68f3\n",
      "  Building wheel for feedfinder2 (setup.py): started\n",
      "  Building wheel for feedfinder2 (setup.py): finished with status 'done'\n",
      "  Created wheel for feedfinder2: filename=feedfinder2-0.0.4-py3-none-any.whl size=3358 sha256=b37c2157331ee99bd37eaa07c6aefa95f9a8155594fccea337d6a649b74de123\n",
      "  Stored in directory: c:\\users\\user\\appdata\\local\\pip\\cache\\wheels\\80\\d5\\72\\9cd9eccc819636436c6a6e59c22a0fb1ec167beef141f56491\n",
      "  Building wheel for jieba3k (setup.py): started\n",
      "  Building wheel for jieba3k (setup.py): finished with status 'done'\n",
      "  Created wheel for jieba3k: filename=jieba3k-0.35.1-py3-none-any.whl size=7398388 sha256=d8e882e1d6fc9e7e3afeb880742e7f7b25ab895743af058f729c982d8c557745\n",
      "  Stored in directory: c:\\users\\user\\appdata\\local\\pip\\cache\\wheels\\3a\\a1\\46\\8e68055c1713f9c4598774c15ad0541f26d5425ee7423b6493\n",
      "  Building wheel for sgmllib3k (setup.py): started\n",
      "  Building wheel for sgmllib3k (setup.py): finished with status 'done'\n",
      "  Created wheel for sgmllib3k: filename=sgmllib3k-1.0.0-py3-none-any.whl size=6061 sha256=0fe66ff2f056464373a2e2296c340195e77d6ebf44181c9c6e49105265614970\n",
      "  Stored in directory: c:\\users\\user\\appdata\\local\\pip\\cache\\wheels\\3b\\25\\2a\\105d6a15df6914f4d15047691c6c28f9052cc1173e40285d03\n",
      "Successfully built tinysegmenter feedfinder2 jieba3k sgmllib3k\n",
      "Installing collected packages: tinysegmenter, sgmllib3k, jieba3k, feedparser, feedfinder2, newspaper3k\n",
      "Successfully installed feedfinder2-0.0.4 feedparser-6.0.11 jieba3k-0.35.1 newspaper3k-0.2.8 sgmllib3k-1.0.0 tinysegmenter-0.3\n"
     ]
    }
   ],
   "source": [
    "!pip3 install newspaper3k"
   ]
  },
  {
   "cell_type": "code",
   "execution_count": 5,
   "metadata": {
    "colab": {
     "base_uri": "https://localhost:8080/"
    },
    "id": "cY6T7eRJzvSZ",
    "outputId": "15c30c26-a753-40cc-ff83-678c863e8cbe"
   },
   "outputs": [
    {
     "name": "stdout",
     "output_type": "stream",
     "text": [
      "Requirement already satisfied: chromedriver-autoinstaller in c:\\users\\user\\anaconda3\\lib\\site-packages (0.6.4)\n",
      "Requirement already satisfied: packaging>=23.1 in c:\\users\\user\\anaconda3\\lib\\site-packages (from chromedriver-autoinstaller) (23.1)\n"
     ]
    }
   ],
   "source": [
    "!pip3 install chromedriver-autoinstaller"
   ]
  },
  {
   "cell_type": "code",
   "execution_count": 6,
   "metadata": {
    "id": "uxSp7oVFzf0b"
   },
   "outputs": [],
   "source": [
    "# Import library\n",
    "import re\n",
    "import csv\n",
    "import sys\n",
    "import time\n",
    "import pandas as pd\n",
    "import chromedriver_autoinstaller\n",
    "from newspaper import Article\n",
    "from selenium import webdriver\n",
    "from selenium.webdriver.common.by import By\n",
    "from selenium.webdriver.support.ui import WebDriverWait\n",
    "from selenium.common.exceptions import NoSuchElementException\n",
    "from selenium.webdriver.support import expected_conditions as EC"
   ]
  },
  {
   "cell_type": "code",
   "execution_count": 7,
   "metadata": {
    "colab": {
     "base_uri": "https://localhost:8080/",
     "height": 53
    },
    "id": "pypPPEHzWXuT",
    "outputId": "ffe3493e-b464-4039-fe10-55e4a3bedcdf"
   },
   "outputs": [
    {
     "data": {
      "text/plain": [
       "'C:\\\\Users\\\\User\\\\anaconda3\\\\Lib\\\\site-packages\\\\chromedriver_autoinstaller\\\\128\\\\chromedriver.exe'"
      ]
     },
     "execution_count": 7,
     "metadata": {},
     "output_type": "execute_result"
    }
   ],
   "source": [
    "# Setting chrome driver\n",
    "sys.path.insert(0,'/usr/lib/chromium-browser/chromedriver')\n",
    "\n",
    "chrome_options = webdriver.ChromeOptions()\n",
    "chrome_options.add_argument('--headless') # ensure GUI is off\n",
    "chrome_options.add_argument('--no-sandbox')\n",
    "chrome_options.add_argument('--disable-dev-shm-usage')\n",
    "\n",
    "chromedriver_autoinstaller.install()"
   ]
  },
  {
   "cell_type": "markdown",
   "metadata": {
    "id": "vLjlqeYnx5zK"
   },
   "source": [
    "# **Load CSV Link Berita**"
   ]
  },
  {
   "cell_type": "code",
   "execution_count": 8,
   "metadata": {
    "colab": {
     "base_uri": "https://localhost:8080/",
     "height": 73
    },
    "id": "GxwVxpJ5zuAB",
    "outputId": "dcc9fb12-5d3a-43b3-8f83-6d423dec7cbf"
   },
   "outputs": [
    {
     "data": {
      "text/html": [
       "<div>\n",
       "<style scoped>\n",
       "    .dataframe tbody tr th:only-of-type {\n",
       "        vertical-align: middle;\n",
       "    }\n",
       "\n",
       "    .dataframe tbody tr th {\n",
       "        vertical-align: top;\n",
       "    }\n",
       "\n",
       "    .dataframe thead th {\n",
       "        text-align: right;\n",
       "    }\n",
       "</style>\n",
       "<table border=\"1\" class=\"dataframe\">\n",
       "  <thead>\n",
       "    <tr style=\"text-align: right;\">\n",
       "      <th></th>\n",
       "      <th>url</th>\n",
       "      <th>date</th>\n",
       "    </tr>\n",
       "  </thead>\n",
       "  <tbody>\n",
       "    <tr>\n",
       "      <th>0</th>\n",
       "      <td>https://rbtv.disway.id/read/66500/angsuran-bpj...</td>\n",
       "      <td>2024-09-16</td>\n",
       "    </tr>\n",
       "    <tr>\n",
       "      <th>1</th>\n",
       "      <td>https://jateng.tribunnews.com/2024/09/16/inila...</td>\n",
       "      <td>2024-09-16</td>\n",
       "    </tr>\n",
       "    <tr>\n",
       "      <th>2</th>\n",
       "      <td>https://www.rri.co.id/mataram/kesehatan/975069...</td>\n",
       "      <td>2024-09-15</td>\n",
       "    </tr>\n",
       "    <tr>\n",
       "      <th>3</th>\n",
       "      <td>https://belitung.tribunnews.com/2024/09/15/pas...</td>\n",
       "      <td>2024-09-15</td>\n",
       "    </tr>\n",
       "    <tr>\n",
       "      <th>4</th>\n",
       "      <td>https://kaltimpost.jawapos.com/balikpapan/2385...</td>\n",
       "      <td>2024-09-15</td>\n",
       "    </tr>\n",
       "    <tr>\n",
       "      <th>5</th>\n",
       "      <td>https://www.kompas.com/tren/read/2024/09/14/17...</td>\n",
       "      <td>2024-09-15</td>\n",
       "    </tr>\n",
       "    <tr>\n",
       "      <th>6</th>\n",
       "      <td>https://www.rri.co.id/daerah/973709/pemkab-mad...</td>\n",
       "      <td>2024-09-15</td>\n",
       "    </tr>\n",
       "    <tr>\n",
       "      <th>7</th>\n",
       "      <td>https://www.beritasatu.com/network/suaraindone...</td>\n",
       "      <td>2024-09-15</td>\n",
       "    </tr>\n",
       "    <tr>\n",
       "      <th>8</th>\n",
       "      <td>https://toraja.tribunnews.com/2024/09/15/siner...</td>\n",
       "      <td>2024-09-15</td>\n",
       "    </tr>\n",
       "    <tr>\n",
       "      <th>9</th>\n",
       "      <td>https://www.kompas.tv/regional/538445/bersilat...</td>\n",
       "      <td>2024-09-15</td>\n",
       "    </tr>\n",
       "    <tr>\n",
       "      <th>10</th>\n",
       "      <td>https://www.rri.co.id/daerah/973674/ngobrol-ba...</td>\n",
       "      <td>2024-09-14</td>\n",
       "    </tr>\n",
       "    <tr>\n",
       "      <th>11</th>\n",
       "      <td>https://manado.antaranews.com/berita/261447/ra...</td>\n",
       "      <td>2024-09-14</td>\n",
       "    </tr>\n",
       "    <tr>\n",
       "      <th>12</th>\n",
       "      <td>https://www.rri.co.id/semarang/kesehatan/97277...</td>\n",
       "      <td>2024-09-14</td>\n",
       "    </tr>\n",
       "    <tr>\n",
       "      <th>13</th>\n",
       "      <td>https://health.detik.com/berita-detikhealth/d-...</td>\n",
       "      <td>2024-09-14</td>\n",
       "    </tr>\n",
       "    <tr>\n",
       "      <th>14</th>\n",
       "      <td>https://sumsel.suara.com/read/2024/09/14/12343...</td>\n",
       "      <td>2024-09-14</td>\n",
       "    </tr>\n",
       "    <tr>\n",
       "      <th>15</th>\n",
       "      <td>https://jateng.antaranews.com/berita/549151/pe...</td>\n",
       "      <td>2024-09-14</td>\n",
       "    </tr>\n",
       "    <tr>\n",
       "      <th>16</th>\n",
       "      <td>https://www.msn.com/id-id/berita/other/sinergi...</td>\n",
       "      <td>2024-09-13</td>\n",
       "    </tr>\n",
       "    <tr>\n",
       "      <th>17</th>\n",
       "      <td>https://finance.detik.com/moneter/d-7537209/ca...</td>\n",
       "      <td>2024-09-13</td>\n",
       "    </tr>\n",
       "    <tr>\n",
       "      <th>18</th>\n",
       "      <td>https://www.kompas.com/tren/read/2024/09/12/15...</td>\n",
       "      <td>2024-09-13</td>\n",
       "    </tr>\n",
       "    <tr>\n",
       "      <th>19</th>\n",
       "      <td>https://www.rri.co.id/kesehatan/964266/persi-b...</td>\n",
       "      <td>2024-09-10</td>\n",
       "    </tr>\n",
       "    <tr>\n",
       "      <th>20</th>\n",
       "      <td>https://www.nugresik.or.id/klinik-an-nahdlah-m...</td>\n",
       "      <td>2024-09-09</td>\n",
       "    </tr>\n",
       "    <tr>\n",
       "      <th>21</th>\n",
       "      <td>https://news.detik.com/berita/d-7441869/hut-ke...</td>\n",
       "      <td>2024-07-16</td>\n",
       "    </tr>\n",
       "    <tr>\n",
       "      <th>22</th>\n",
       "      <td>https://jogja.antaranews.com/berita/701712/bpj...</td>\n",
       "      <td>2024-07-16</td>\n",
       "    </tr>\n",
       "    <tr>\n",
       "      <th>23</th>\n",
       "      <td>https://www.rri.co.id/daerah/830504/peringati-...</td>\n",
       "      <td>2024-07-16</td>\n",
       "    </tr>\n",
       "    <tr>\n",
       "      <th>24</th>\n",
       "      <td>https://radarsolo.jawapos.com/boyolali/8448619...</td>\n",
       "      <td>2024-07-14</td>\n",
       "    </tr>\n",
       "    <tr>\n",
       "      <th>25</th>\n",
       "      <td>https://lamongankab.go.id/beranda/puskesmas-su...</td>\n",
       "      <td>2024-06-07</td>\n",
       "    </tr>\n",
       "    <tr>\n",
       "      <th>26</th>\n",
       "      <td>https://www.unila.ac.id/prolanis-di-klinik-uni...</td>\n",
       "      <td>2024-05-29</td>\n",
       "    </tr>\n",
       "    <tr>\n",
       "      <th>27</th>\n",
       "      <td>https://mediacenter.slemankab.go.id/2024/05/27...</td>\n",
       "      <td>2024-05-27</td>\n",
       "    </tr>\n",
       "    <tr>\n",
       "      <th>28</th>\n",
       "      <td>https://lamongankab.go.id/beranda/puskesmas-sa...</td>\n",
       "      <td>2024-02-23</td>\n",
       "    </tr>\n",
       "    <tr>\n",
       "      <th>29</th>\n",
       "      <td>https://upk.kemkes.go.id/new/klub-prolanis-upk...</td>\n",
       "      <td>2022-08-16</td>\n",
       "    </tr>\n",
       "  </tbody>\n",
       "</table>\n",
       "</div>"
      ],
      "text/plain": [
       "                                                  url        date\n",
       "0   https://rbtv.disway.id/read/66500/angsuran-bpj...  2024-09-16\n",
       "1   https://jateng.tribunnews.com/2024/09/16/inila...  2024-09-16\n",
       "2   https://www.rri.co.id/mataram/kesehatan/975069...  2024-09-15\n",
       "3   https://belitung.tribunnews.com/2024/09/15/pas...  2024-09-15\n",
       "4   https://kaltimpost.jawapos.com/balikpapan/2385...  2024-09-15\n",
       "5   https://www.kompas.com/tren/read/2024/09/14/17...  2024-09-15\n",
       "6   https://www.rri.co.id/daerah/973709/pemkab-mad...  2024-09-15\n",
       "7   https://www.beritasatu.com/network/suaraindone...  2024-09-15\n",
       "8   https://toraja.tribunnews.com/2024/09/15/siner...  2024-09-15\n",
       "9   https://www.kompas.tv/regional/538445/bersilat...  2024-09-15\n",
       "10  https://www.rri.co.id/daerah/973674/ngobrol-ba...  2024-09-14\n",
       "11  https://manado.antaranews.com/berita/261447/ra...  2024-09-14\n",
       "12  https://www.rri.co.id/semarang/kesehatan/97277...  2024-09-14\n",
       "13  https://health.detik.com/berita-detikhealth/d-...  2024-09-14\n",
       "14  https://sumsel.suara.com/read/2024/09/14/12343...  2024-09-14\n",
       "15  https://jateng.antaranews.com/berita/549151/pe...  2024-09-14\n",
       "16  https://www.msn.com/id-id/berita/other/sinergi...  2024-09-13\n",
       "17  https://finance.detik.com/moneter/d-7537209/ca...  2024-09-13\n",
       "18  https://www.kompas.com/tren/read/2024/09/12/15...  2024-09-13\n",
       "19  https://www.rri.co.id/kesehatan/964266/persi-b...  2024-09-10\n",
       "20  https://www.nugresik.or.id/klinik-an-nahdlah-m...  2024-09-09\n",
       "21  https://news.detik.com/berita/d-7441869/hut-ke...  2024-07-16\n",
       "22  https://jogja.antaranews.com/berita/701712/bpj...  2024-07-16\n",
       "23  https://www.rri.co.id/daerah/830504/peringati-...  2024-07-16\n",
       "24  https://radarsolo.jawapos.com/boyolali/8448619...  2024-07-14\n",
       "25  https://lamongankab.go.id/beranda/puskesmas-su...  2024-06-07\n",
       "26  https://www.unila.ac.id/prolanis-di-klinik-uni...  2024-05-29\n",
       "27  https://mediacenter.slemankab.go.id/2024/05/27...  2024-05-27\n",
       "28  https://lamongankab.go.id/beranda/puskesmas-sa...  2024-02-23\n",
       "29  https://upk.kemkes.go.id/new/klub-prolanis-upk...  2022-08-16"
      ]
     },
     "execution_count": 8,
     "metadata": {},
     "output_type": "execute_result"
    }
   ],
   "source": [
    "df_news_link = pd.read_csv(\"C:/Users/User/Jupyter Notebook/PBA/Bahan Kelompok/daftar_link_berita_bpjs.csv\")\n",
    "df_news_link"
   ]
  },
  {
   "cell_type": "markdown",
   "metadata": {
    "id": "aD5EDOvKx_mG"
   },
   "source": [
    "# **Scraping dan Parsing Teks Berita**"
   ]
  },
  {
   "cell_type": "markdown",
   "metadata": {
    "id": "CXDAm8UnySfc"
   },
   "source": [
    "Menguraikan judul, URL link, konten, tanggal, tags dari laman artikel berita."
   ]
  },
  {
   "cell_type": "code",
   "execution_count": 9,
   "metadata": {
    "id": "i9hCO2Gzt9bw"
   },
   "outputs": [],
   "source": [
    "def scrape_news_text(df_news_link):\n",
    "\n",
    "    dict_news = dict()\n",
    "    status = list()\n",
    "\n",
    "    for i in df_news_link.index:\n",
    "\n",
    "        # Akses dan download article\n",
    "        article = Article(str(df_news_link['url'][i]), language='id')\n",
    "        article.download()\n",
    "\n",
    "        # Jika download berhasil, uraikan HTML\n",
    "        if article.download_state == 2:\n",
    "            article.parse()\n",
    "            # Jika teks tidak kosong, ambil isinya\n",
    "            if article.text:\n",
    "                print(f\"{i+1} [success] {article.url}\")\n",
    "                status.append('success')\n",
    "                dict_news[i] = {\n",
    "                    'title': str(article.title),\n",
    "                    'url': str(article.url),\n",
    "                    'text': str(article.text),\n",
    "                    'date': df_news_link['date'][i],\n",
    "                    'tags': ', '.join(article.tags)\n",
    "                }\n",
    "                continue\n",
    "\n",
    "        # Jika gagal, maka ambil HTML nya secara manual pakai Selenium\n",
    "        input_html = ''\n",
    "        driver = webdriver.Chrome(options=chrome_options)\n",
    "\n",
    "        try:\n",
    "          driver.get(str(df_news_link['url'][i]))\n",
    "          input_html = driver.page_source\n",
    "          time.sleep(2)\n",
    "\n",
    "          article.download(input_html)\n",
    "          article.parse()\n",
    "\n",
    "          # Jika teks tidak kosong, ambil isinya\n",
    "          if article.text:\n",
    "              print(f\"{i+1} [success] {article.url}\")\n",
    "              status.append('success')\n",
    "              dict_news[i] = {\n",
    "                  'title': str(article.title),\n",
    "                  'url': str(article.url),\n",
    "                  'text': str(article.text),\n",
    "                  'date': df_news_link['date'][i],\n",
    "                  'tags': ', '.join(article.tags)\n",
    "              }\n",
    "              continue\n",
    "        except Exception as e:\n",
    "          pass\n",
    "        finally:\n",
    "          driver.close()\n",
    "\n",
    "        # jika HTML atau teks nya kosong maka FAILED\n",
    "        print(f\"{i+1} [failed ] {article.url}\")\n",
    "        status.append('failed')\n",
    "\n",
    "    return (dict_news, status)"
   ]
  },
  {
   "cell_type": "code",
   "execution_count": 10,
   "metadata": {
    "colab": {
     "base_uri": "https://localhost:8080/"
    },
    "id": "8vxMFipLt9bx",
    "outputId": "c92f8b96-5995-4322-fed8-edd2f2f1d751"
   },
   "outputs": [
    {
     "name": "stdout",
     "output_type": "stream",
     "text": [
      "1 [success] https://rbtv.disway.id/read/66500/angsuran-bpjs-kesehatan-asn-di-kaur-menunggak-hingga-rp-4-miliar\n",
      "2 [success] https://jateng.tribunnews.com/2024/09/16/inilah-cara-klaim-kacamata-gratis-melalui-bpjs-kesehatan-simak-ketentuannya\n",
      "3 [success] https://www.rri.co.id/mataram/kesehatan/975069/pelayanan-bagi-pasien-jkn-cepat-dan-profesional\n",
      "4 [success] https://belitung.tribunnews.com/2024/09/15/pasangan-bekawan-janjikan-bayar-tunggakan-bpjs-kesehatan-masyarakat-belitung-timur\n",
      "5 [success] https://kaltimpost.jawapos.com/balikpapan/2385091831/bpjs-kesehatan-ngobras-jkn-bareng-media-se-kalimantan\n",
      "6 [success] https://www.kompas.com/tren/read/2024/09/14/170000165/orangtua-sudah-bercerai-apakah-bpjs-kesehatan-anak-masih-bisa-digunakan-\n",
      "7 [success] https://www.rri.co.id/daerah/973709/pemkab-madina-sosialisasikan-bpjs-universal-health-coverage\n",
      "8 [failed ] https://www.beritasatu.com/network/suaraindonesia/302501/rsud-soetijono-blora-terima-dukungan-8-mesin-hd-dari-bpjs-kesehatan-cabang-pati-untuk-pasien-gagal-ginjal\n",
      "9 [success] https://toraja.tribunnews.com/2024/09/15/sinergi-dengan-tni-bpjskesehatan-perkuat-layanan-kesehatan-bagi-seluruh-prajurit\n",
      "10 [success] https://www.kompas.tv/regional/538445/bersilaturahmi-dengan-guru-ngaji-kang-ds-paparkan-manfaat-bpjs-kesehatan-dan-ketenagakerjaan\n",
      "11 [success] https://www.rri.co.id/daerah/973674/ngobrol-bareng-media-bpjs-kesehatan-infokan-perkembangan-kegiatan\n",
      "12 [success] https://manado.antaranews.com/berita/261447/rasa-kagum-jabir-yang-terlindungi-kesehatannya-oleh-program-jkn\n",
      "13 [success] https://www.rri.co.id/semarang/kesehatan/972772/peran-bpjs-satu-jembatan-antara-pasien-dan-rumah-sakit\n",
      "14 [success] https://health.detik.com/berita-detikhealth/d-7539469/pasien-bpjs-bisa-naik-satu-kelas-tanpa-biaya-bila-kamar-rs-penuh-ini-syaratnya\n",
      "15 [success] https://sumsel.suara.com/read/2024/09/14/123439/ibu-bayi-berkelamin-ganda-jadi-korban-penipuan-oknum-berkedok-pegawai-bpjs\n",
      "16 [success] https://jateng.antaranews.com/berita/549151/petugas-bpjs-kesehatan-siaga-di-rs-siap-bantu-pasien\n",
      "17 [failed ] https://www.msn.com/id-id/berita/other/sinergi-dengan-tni-bpjs-kesehatan-perkuat-layanan-kesehatan-bagi-seluruh-prajurit/ar-AA1qAgIR\n",
      "18 [success] https://finance.detik.com/moneter/d-7537209/cara-cek-rumah-sakit-rujukan-bpjs-kesehatan-online-2024\n",
      "19 [success] https://www.kompas.com/tren/read/2024/09/12/153000965/bisakah-peserta-bpjs-kesehatan-pindah-ke-pbi-jika-punya-tunggakan?page=all\n",
      "20 [success] https://www.rri.co.id/kesehatan/964266/persi-bengkulu-dorong-pelayanan-rsud-dan-bpjs-kesehatan\n",
      "21 [failed ] https://www.nugresik.or.id/klinik-an-nahdlah-mwcnu-dukun-gresik-beri-pelayanan-gratis-pemeriksaan-prolanis-dan-iva/\n",
      "22 [success] https://news.detik.com/berita/d-7441869/hut-ke-56-bpjs-kesehatan-harap-prolanis-day-dorong-kualitas-hidup-peserta\n",
      "23 [success] https://jogja.antaranews.com/berita/701712/bpjs-sleman-gencar-sosialisasi-program-prolanis\n",
      "24 [success] https://www.rri.co.id/daerah/830504/peringati-hut-ke-56-bpjs-kesehatan-laksanakan-prolanis-day\n",
      "25 [success] https://radarsolo.jawapos.com/boyolali/844861984/rayakan-hut-ke-56-bpjs-kesehatan-ajak-lansia-terapkan-pola-hidup-sehat-dengan-prolanis-day\n",
      "26 [success] https://lamongankab.go.id/beranda/puskesmas-sugio/post/16233\n",
      "27 [success] https://www.unila.ac.id/prolanis-di-klinik-unila-kolaborasi-dengan-kimia-farma/\n",
      "28 [success] https://mediacenter.slemankab.go.id/2024/05/27/puskesmas-mlati-ii-adakan-kegiatan-rutin-cek-laboratorium-bagi-peserta-prolanis/\n",
      "29 [success] https://lamongankab.go.id/beranda/puskesmas-sambeng/post/14032\n",
      "30 [success] https://upk.kemkes.go.id/new/klub-prolanis-upk-berteman-dengan-hipertensi-dan-diabetes-melitus\n"
     ]
    }
   ],
   "source": [
    "# Scraping dan parsing text berita\n",
    "dict_news, status = scrape_news_text(df_news_link)"
   ]
  },
  {
   "cell_type": "markdown",
   "metadata": {
    "id": "VJzItEFoyEB0"
   },
   "source": [
    "# **Simpan Teks Berita ke CSV**"
   ]
  },
  {
   "cell_type": "code",
   "execution_count": 11,
   "metadata": {
    "id": "WqsCIs2Qt9by"
   },
   "outputs": [],
   "source": [
    "# Mengonversi dictionary ke dalam DataFrame\n",
    "df_news = pd.DataFrame.from_dict(dict_news, orient='index')\n",
    "df_status = pd.DataFrame(status, columns=['status'])"
   ]
  },
  {
   "cell_type": "code",
   "execution_count": 12,
   "metadata": {
    "colab": {
     "base_uri": "https://localhost:8080/",
     "height": 1000
    },
    "id": "_gE1O_HwuTEC",
    "outputId": "4f684254-2d7c-4878-98f6-d6ebf8588c6d"
   },
   "outputs": [
    {
     "data": {
      "text/html": [
       "<div>\n",
       "<style scoped>\n",
       "    .dataframe tbody tr th:only-of-type {\n",
       "        vertical-align: middle;\n",
       "    }\n",
       "\n",
       "    .dataframe tbody tr th {\n",
       "        vertical-align: top;\n",
       "    }\n",
       "\n",
       "    .dataframe thead th {\n",
       "        text-align: right;\n",
       "    }\n",
       "</style>\n",
       "<table border=\"1\" class=\"dataframe\">\n",
       "  <thead>\n",
       "    <tr style=\"text-align: right;\">\n",
       "      <th></th>\n",
       "      <th>title</th>\n",
       "      <th>url</th>\n",
       "      <th>text</th>\n",
       "      <th>date</th>\n",
       "      <th>tags</th>\n",
       "    </tr>\n",
       "  </thead>\n",
       "  <tbody>\n",
       "    <tr>\n",
       "      <th>0</th>\n",
       "      <td>Angsuran BPJS Kesehatan ASN di Kaur Menunggak ...</td>\n",
       "      <td>https://rbtv.disway.id/read/66500/angsuran-bpj...</td>\n",
       "      <td>Angsuran BPJS Kesehatan ASN di Kaur Menunggak ...</td>\n",
       "      <td>2024-09-16</td>\n",
       "      <td></td>\n",
       "    </tr>\n",
       "    <tr>\n",
       "      <th>1</th>\n",
       "      <td>Inilah Cara Klaim Kacamata Gratis Melalui BPJS...</td>\n",
       "      <td>https://jateng.tribunnews.com/2024/09/16/inila...</td>\n",
       "      <td>ILUSTRASI - Klaim kacamata BPJS Kesehatan, bis...</td>\n",
       "      <td>2024-09-16</td>\n",
       "      <td>Tips Kecantikan, BPJS Kesehatan, gratis, Body ...</td>\n",
       "    </tr>\n",
       "    <tr>\n",
       "      <th>2</th>\n",
       "      <td>Attention Required!</td>\n",
       "      <td>https://www.rri.co.id/mataram/kesehatan/975069...</td>\n",
       "      <td>Why have I been blocked?\\n\\nThis website is us...</td>\n",
       "      <td>2024-09-15</td>\n",
       "      <td></td>\n",
       "    </tr>\n",
       "    <tr>\n",
       "      <th>3</th>\n",
       "      <td>Pasangan BEKAWAN Janjikan Bayar Tunggakan BPJS...</td>\n",
       "      <td>https://belitung.tribunnews.com/2024/09/15/pas...</td>\n",
       "      <td>Foto bersama dengan tujuh pemenang dari tiap k...</td>\n",
       "      <td>2024-09-15</td>\n",
       "      <td>Tips Kecantikan, Body Care, #Pilkada Belitung ...</td>\n",
       "    </tr>\n",
       "    <tr>\n",
       "      <th>4</th>\n",
       "      <td>Attention Required!</td>\n",
       "      <td>https://kaltimpost.jawapos.com/balikpapan/2385...</td>\n",
       "      <td>Why have I been blocked?\\n\\nThis website is us...</td>\n",
       "      <td>2024-09-15</td>\n",
       "      <td></td>\n",
       "    </tr>\n",
       "    <tr>\n",
       "      <th>5</th>\n",
       "      <td>Orangtua Sudah Bercerai, Apakah BPJS Kesehatan...</td>\n",
       "      <td>https://www.kompas.com/tren/read/2024/09/14/17...</td>\n",
       "      <td>KOMPAS.com - Masyarakat wajib mendaftarkan sel...</td>\n",
       "      <td>2024-09-15</td>\n",
       "      <td>Cara pindah BPJS PPU ke mandiri, sudah cerai a...</td>\n",
       "    </tr>\n",
       "    <tr>\n",
       "      <th>6</th>\n",
       "      <td>Attention Required!</td>\n",
       "      <td>https://www.rri.co.id/daerah/973709/pemkab-mad...</td>\n",
       "      <td>Why have I been blocked?\\n\\nThis website is us...</td>\n",
       "      <td>2024-09-15</td>\n",
       "      <td></td>\n",
       "    </tr>\n",
       "    <tr>\n",
       "      <th>8</th>\n",
       "      <td>Sinergi dengan TNI, BPJS Kesehatan Perkuat Lay...</td>\n",
       "      <td>https://toraja.tribunnews.com/2024/09/15/siner...</td>\n",
       "      <td>TRIBUNTORAJA.COM, MAKASSAR - Perjalanan satu d...</td>\n",
       "      <td>2024-09-15</td>\n",
       "      <td>Tips Kecantikan, Badan Penyelenggara Jaminan S...</td>\n",
       "    </tr>\n",
       "    <tr>\n",
       "      <th>9</th>\n",
       "      <td>Bersilaturahmi dengan Guru Ngaji, Kang DS Papa...</td>\n",
       "      <td>https://www.kompas.tv/regional/538445/bersilat...</td>\n",
       "      <td>Kompas.tv - 15 September 2024, 21:47 WIB\\n\\nKA...</td>\n",
       "      <td>2024-09-15</td>\n",
       "      <td>dadang supriatna, kompastv bandung, bupati ban...</td>\n",
       "    </tr>\n",
       "    <tr>\n",
       "      <th>10</th>\n",
       "      <td>Attention Required!</td>\n",
       "      <td>https://www.rri.co.id/daerah/973674/ngobrol-ba...</td>\n",
       "      <td>Why have I been blocked?\\n\\nThis website is us...</td>\n",
       "      <td>2024-09-14</td>\n",
       "      <td></td>\n",
       "    </tr>\n",
       "  </tbody>\n",
       "</table>\n",
       "</div>"
      ],
      "text/plain": [
       "                                                title  \\\n",
       "0   Angsuran BPJS Kesehatan ASN di Kaur Menunggak ...   \n",
       "1   Inilah Cara Klaim Kacamata Gratis Melalui BPJS...   \n",
       "2                                 Attention Required!   \n",
       "3   Pasangan BEKAWAN Janjikan Bayar Tunggakan BPJS...   \n",
       "4                                 Attention Required!   \n",
       "5   Orangtua Sudah Bercerai, Apakah BPJS Kesehatan...   \n",
       "6                                 Attention Required!   \n",
       "8   Sinergi dengan TNI, BPJS Kesehatan Perkuat Lay...   \n",
       "9   Bersilaturahmi dengan Guru Ngaji, Kang DS Papa...   \n",
       "10                                Attention Required!   \n",
       "\n",
       "                                                  url  \\\n",
       "0   https://rbtv.disway.id/read/66500/angsuran-bpj...   \n",
       "1   https://jateng.tribunnews.com/2024/09/16/inila...   \n",
       "2   https://www.rri.co.id/mataram/kesehatan/975069...   \n",
       "3   https://belitung.tribunnews.com/2024/09/15/pas...   \n",
       "4   https://kaltimpost.jawapos.com/balikpapan/2385...   \n",
       "5   https://www.kompas.com/tren/read/2024/09/14/17...   \n",
       "6   https://www.rri.co.id/daerah/973709/pemkab-mad...   \n",
       "8   https://toraja.tribunnews.com/2024/09/15/siner...   \n",
       "9   https://www.kompas.tv/regional/538445/bersilat...   \n",
       "10  https://www.rri.co.id/daerah/973674/ngobrol-ba...   \n",
       "\n",
       "                                                 text        date  \\\n",
       "0   Angsuran BPJS Kesehatan ASN di Kaur Menunggak ...  2024-09-16   \n",
       "1   ILUSTRASI - Klaim kacamata BPJS Kesehatan, bis...  2024-09-16   \n",
       "2   Why have I been blocked?\\n\\nThis website is us...  2024-09-15   \n",
       "3   Foto bersama dengan tujuh pemenang dari tiap k...  2024-09-15   \n",
       "4   Why have I been blocked?\\n\\nThis website is us...  2024-09-15   \n",
       "5   KOMPAS.com - Masyarakat wajib mendaftarkan sel...  2024-09-15   \n",
       "6   Why have I been blocked?\\n\\nThis website is us...  2024-09-15   \n",
       "8   TRIBUNTORAJA.COM, MAKASSAR - Perjalanan satu d...  2024-09-15   \n",
       "9   Kompas.tv - 15 September 2024, 21:47 WIB\\n\\nKA...  2024-09-15   \n",
       "10  Why have I been blocked?\\n\\nThis website is us...  2024-09-14   \n",
       "\n",
       "                                                 tags  \n",
       "0                                                      \n",
       "1   Tips Kecantikan, BPJS Kesehatan, gratis, Body ...  \n",
       "2                                                      \n",
       "3   Tips Kecantikan, Body Care, #Pilkada Belitung ...  \n",
       "4                                                      \n",
       "5   Cara pindah BPJS PPU ke mandiri, sudah cerai a...  \n",
       "6                                                      \n",
       "8   Tips Kecantikan, Badan Penyelenggara Jaminan S...  \n",
       "9   dadang supriatna, kompastv bandung, bupati ban...  \n",
       "10                                                     "
      ]
     },
     "execution_count": 12,
     "metadata": {},
     "output_type": "execute_result"
    }
   ],
   "source": [
    "df_news.head(10)"
   ]
  },
  {
   "cell_type": "code",
   "execution_count": 13,
   "metadata": {
    "colab": {
     "base_uri": "https://localhost:8080/"
    },
    "id": "bnw2k28Rt9bz",
    "outputId": "75ec9f59-6061-4471-c754-f46468552d0e"
   },
   "outputs": [
    {
     "name": "stdout",
     "output_type": "stream",
     "text": [
      "status\n",
      "success    27\n",
      "failed      3\n",
      "Name: count, dtype: int64\n"
     ]
    }
   ],
   "source": [
    "# Menyimpan DataFrame ke dalam file CSV\n",
    "output_file = 'daftar_teks_berita_bpjs.csv'\n",
    "df_news.to_csv(output_file, index=False, sep=\";\")\n",
    "print(df_status['status'].value_counts())"
   ]
  },
  {
   "cell_type": "code",
   "execution_count": null,
   "metadata": {},
   "outputs": [],
   "source": []
  }
 ],
 "metadata": {
  "colab": {
   "provenance": []
  },
  "kernelspec": {
   "display_name": "Python 3 (ipykernel)",
   "language": "python",
   "name": "python3"
  },
  "language_info": {
   "codemirror_mode": {
    "name": "ipython",
    "version": 3
   },
   "file_extension": ".py",
   "mimetype": "text/x-python",
   "name": "python",
   "nbconvert_exporter": "python",
   "pygments_lexer": "ipython3",
   "version": "3.11.5"
  }
 },
 "nbformat": 4,
 "nbformat_minor": 1
}
